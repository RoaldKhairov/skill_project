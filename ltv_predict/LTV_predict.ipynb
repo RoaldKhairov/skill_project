{
  "nbformat": 4,
  "nbformat_minor": 0,
  "metadata": {
    "colab": {
      "name": "LTV predict.ipynb",
      "provenance": [],
      "mount_file_id": "15k27ZaS3DqA5PpM7l6D7cxBHpDL86F9I",
      "authorship_tag": "ABX9TyOS9AUk8tYDQeJdDbejHMoT",
      "include_colab_link": true
    },
    "kernelspec": {
      "name": "python3",
      "display_name": "Python 3"
    },
    "language_info": {
      "name": "python"
    }
  },
  "cells": [
    {
      "cell_type": "markdown",
      "metadata": {
        "id": "view-in-github",
        "colab_type": "text"
      },
      "source": [
        "<a href=\"https://colab.research.google.com/github/RoaldKhairov/skill_project/blob/master/ltv_predict/LTV_predict.ipynb\" target=\"_parent\"><img src=\"https://colab.research.google.com/assets/colab-badge.svg\" alt=\"Open In Colab\"/></a>"
      ]
    },
    {
      "cell_type": "code",
      "source": [
        "#!pip install plotly\n",
        "#!pip install catb\n",
        "#!pip install catboost\n",
        "#!pip install shap"
      ],
      "metadata": {
        "id": "TsLqAp3m5bGa"
      },
      "execution_count": 51,
      "outputs": []
    },
    {
      "cell_type": "code",
      "execution_count": 52,
      "metadata": {
        "id": "_1BjLiVLzHs3"
      },
      "outputs": [],
      "source": [
        "import sys\n",
        "import pandas as pd\n",
        "import numpy as np\n",
        "from datetime import timedelta \n",
        "from catboost import CatBoostRegressor\n",
        "from sklearn.model_selection import train_test_split\n",
        "from sklearn.linear_model import Ridge\n",
        "from datetime import datetime, timedelta\n",
        "from matplotlib import pyplot as plt\n",
        "from plotly import graph_objs as go\n",
        "from dateutil.relativedelta import relativedelta\n",
        "import warnings\n",
        "import shap\n",
        "import warnings\n",
        "warnings.filterwarnings(\"ignore\")"
      ]
    },
    {
      "cell_type": "markdown",
      "source": [
        "# Прогноз LTV\n",
        "\n",
        "К примеру, прогноз LTV на требуемый горизонт позволяет оценить эффективность рекламных компаний за короткий промежуток времени и перенаправить средтсва на более выгодные канали. \n",
        "Обычно в качестве горизонта выбирают одно из следующих значений: 30 дней, 90 дней, 180 дней, один год или два года. Для удобства последующего изложения материала будем считать, что горизонт прогнозирования равен 180-и дням. Для любых других горизонтов логика останется точно такой же.\n",
        "\n",
        "Первое, с чем следует разобраться, это период ожидания накопления данных. Если его сделать очень большим, например 180 дней, то к моменту прогнозирования уже будет известна реальное значение LTV. Такой подход не эффективен и все решения будут приниматься по уже по факту. Другая крайность - не ждать данные вовсе, и уже через час после установки строить прогноз. При таком подходе существует вероятность, что не будет собраны признаки, с помощью которых можно сделать качественно прогнозирование. **Поэтому золотой серединой является выбор периода данных равным 8 дням**. С одной стороны есть возможность принять решение на основе полученных прогнозов и перенаправить бюджеты, с другой стороны - есть время на сбор признаков, которые обеспечат качество прогноза.\n",
        "\n",
        "И так, имеется информация о первых 8 днях жизни. Для построения прогноза необходимы данные о платежах — это главная вводная,\n",
        "без которой нельзя спрогнозировать доход.\n",
        "\n",
        "Дополнительно можно использовать информацию о запусках и сессиях, соцдем-признаки и информацию о партнере и кампании, которая привела устройство.\n",
        " \n",
        "По итогу, будем использовать данные о платежах и типе трафика: органический или платный."
      ],
      "metadata": {
        "id": "CSfMSKCT1zDV"
      }
    },
    {
      "cell_type": "code",
      "source": [
        "# id гугл диска\n",
        "! gdown --id 18TUsG5G5ER_Xqn4J6qHqnslqPT0t64Q6"
      ],
      "metadata": {
        "colab": {
          "base_uri": "https://localhost:8080/"
        },
        "id": "_ncPZUrx1-Gv",
        "outputId": "5d5c0cb5-8b9e-4184-fedf-2328d3f36977"
      },
      "execution_count": 53,
      "outputs": [
        {
          "output_type": "stream",
          "name": "stdout",
          "text": [
            "/usr/local/lib/python3.7/dist-packages/gdown/cli.py:131: FutureWarning: Option `--id` was deprecated in version 4.3.1 and will be removed in 5.0. You don't need to pass it anymore to use a file ID.\n",
            "  category=FutureWarning,\n",
            "Downloading...\n",
            "From: https://drive.google.com/uc?id=18TUsG5G5ER_Xqn4J6qHqnslqPT0t64Q6\n",
            "To: /content/cookie_cats.csv\n",
            "100% 2.80M/2.80M [00:00<00:00, 115MB/s]\n"
          ]
        }
      ]
    },
    {
      "cell_type": "markdown",
      "source": [
        "# Описание данных\n"
      ],
      "metadata": {
        "id": "4kP6Ys_c9myf"
      }
    },
    {
      "cell_type": "markdown",
      "source": [
        "\n",
        "В файле  big_data.csv  содержатся данные о сырых транзакциях устройств для большого приложения, есть следующие поля:\\\n",
        "\n",
        "**idCountry**  - страна пользователя\n",
        "\n",
        "**dtInstall**  - дата установки пользователя\n",
        "\n",
        "**dtEvent**  - дата платежа\n",
        "\n",
        "**idTrafficType**  - тип трафика, с которого установил пользователь\n",
        "\n",
        "**sumUsd**  - размер платежа в долларах\n",
        "\n",
        "**device_id**  - id устройства\n",
        "\n",
        "В файле  **small_data.csv ** содержатся данные о куммулятивном (накопленном) ltv устройств, есть следующие поля:\\\n",
        "\n",
        "**install_date**  - дата установки пользователя\n",
        "\n",
        "**ltvDay1,.., ltvDay8**  - накопленный ltv с 1 по 8 день жизни\n",
        "\n",
        "**device_id**  - id устройства"
      ],
      "metadata": {
        "id": "tTj2ZsKdJ11J"
      }
    },
    {
      "cell_type": "code",
      "source": [
        "big_data = pd.read_csv('/content/drive/MyDrive/dataset/big_data.csv')\n",
        "small_data = pd.read_csv('/content/drive/MyDrive/dataset/small_data.csv')"
      ],
      "metadata": {
        "id": "SgeVT3Nq8oze"
      },
      "execution_count": 54,
      "outputs": []
    },
    {
      "cell_type": "markdown",
      "source": [
        "# Модель катбуста и линейной регресии"
      ],
      "metadata": {
        "id": "vNEfT_LVJtWm"
      }
    },
    {
      "cell_type": "code",
      "source": [
        "print(\"Размер датасета: \", big_data.shape)\n",
        "print(\"Минимальная дата: \", big_data.dtInstall.min())\n",
        "print(\"Максимальная дата: \", big_data.dtInstall.max())\n",
        "print(big_data.head(5))"
      ],
      "metadata": {
        "colab": {
          "base_uri": "https://localhost:8080/"
        },
        "id": "_NDH95OtJrlG",
        "outputId": "0cd85d87-7380-45ed-e8a8-956a1cca6f6a"
      },
      "execution_count": 55,
      "outputs": [
        {
          "output_type": "stream",
          "name": "stdout",
          "text": [
            "Размер датасета:  (914744, 6)\n",
            "Минимальная дата:  2021-01-02\n",
            "Максимальная дата:  2021-10-29\n",
            "   idCountry   dtInstall     dtEvent  idTrafficType  sumUsd       device_id\n",
            "0         76  2021-10-16  2022-04-13              1   18.91  device_0000001\n",
            "1        202  2021-10-28  2022-05-03              1    2.85  device_0000002\n",
            "2        202  2021-10-28  2022-04-04              1    3.57  device_0000002\n",
            "3         81  2021-10-02  2022-04-06              2   28.27  device_0000003\n",
            "4         81  2021-10-02  2022-04-03              2    2.90  device_0000003\n"
          ]
        }
      ]
    },
    {
      "cell_type": "markdown",
      "source": [
        "Каждая строчка - это платеж устройства, также есть сумма платежа в долларах, дата установки, дата платежа, тип траффика и страна.\n",
        "\n",
        "Введем дополнительный столбец, который показывает, сколько дней прошло от даты устаноовки до даты платежа, в дальнейшем он нам потребуется."
      ],
      "metadata": {
        "id": "ykX0HfedKK3n"
      }
    },
    {
      "cell_type": "code",
      "source": [
        "big_data['timedelta'] = (pd.to_datetime(big_data.dtEvent) - pd.to_datetime(big_data.dtInstall)).apply(lambda x: x.days)"
      ],
      "metadata": {
        "id": "ZpBYSbw6KN2N"
      },
      "execution_count": 56,
      "outputs": []
    },
    {
      "cell_type": "markdown",
      "source": [
        "Начнем готовить признаки для модели. В виде сырых транзакций они плохо подходят для анализа. Сделаем дополнительные колонки куммулятивного лтв с первого по 8-ой день наблюдения за устройством."
      ],
      "metadata": {
        "id": "RmDBbBj_LXVO"
      }
    },
    {
      "cell_type": "code",
      "source": [
        "df_to_work = big_data.groupby('device_id')['dtInstall', 'idCountry', 'idTrafficType'].first().reset_index()\n",
        "\n",
        "def get_sum_ltv_column(big_data, df_to_work, ltv_day_list=[1,2,3,4,5,6,7,8,180]):\n",
        "    for ltv_day in ltv_day_list:\n",
        "        buff_df = big_data[big_data.timedelta <= ltv_day]\n",
        "        buff_df = buff_df.groupby('device_id')['sumUsd'].sum().reset_index()\n",
        "        buff_df.rename(columns={'sumUsd': f'ltvDay{ltv_day}'}, inplace=True)\n",
        "        df_to_work = df_to_work.merge(buff_df, how='left', on='device_id').fillna(0)\n",
        "    \n",
        "    return df_to_work\n",
        "\n",
        "df = get_sum_ltv_column(big_data, df_to_work)\n",
        "df.head()"
      ],
      "metadata": {
        "colab": {
          "base_uri": "https://localhost:8080/",
          "height": 206
        },
        "id": "m1i0VSVoLWym",
        "outputId": "3015fa12-a43b-49f5-b1e3-4404831c61c9"
      },
      "execution_count": 57,
      "outputs": [
        {
          "output_type": "execute_result",
          "data": {
            "text/plain": [
              "        device_id   dtInstall  idCountry  idTrafficType  ltvDay1  ltvDay2  \\\n",
              "0  device_0000001  2021-10-16         76              1      0.0      0.0   \n",
              "1  device_0000002  2021-10-28        202              1      0.0      0.0   \n",
              "2  device_0000003  2021-10-02         81              2      0.0      0.0   \n",
              "3  device_0000004  2021-10-29         67              1      0.0      0.0   \n",
              "4  device_0000005  2021-10-22         26              1      0.0      0.0   \n",
              "\n",
              "   ltvDay3  ltvDay4  ltvDay5  ltvDay6  ltvDay7  ltvDay8  ltvDay180  \n",
              "0      0.0      0.0      0.0      0.0    12.39    15.88      83.89  \n",
              "1      0.0      0.0      0.0      0.0     0.00     0.00      17.96  \n",
              "2      0.0      0.0      0.0      0.0     0.00     0.00     255.41  \n",
              "3      0.0      0.0      0.0      0.0     0.00     0.00      57.82  \n",
              "4      0.0      0.0      0.0      0.0     0.00     0.00      22.63  "
            ],
            "text/html": [
              "\n",
              "  <div id=\"df-ebba0f25-3a08-4e0c-92c4-51311cb93f6b\">\n",
              "    <div class=\"colab-df-container\">\n",
              "      <div>\n",
              "<style scoped>\n",
              "    .dataframe tbody tr th:only-of-type {\n",
              "        vertical-align: middle;\n",
              "    }\n",
              "\n",
              "    .dataframe tbody tr th {\n",
              "        vertical-align: top;\n",
              "    }\n",
              "\n",
              "    .dataframe thead th {\n",
              "        text-align: right;\n",
              "    }\n",
              "</style>\n",
              "<table border=\"1\" class=\"dataframe\">\n",
              "  <thead>\n",
              "    <tr style=\"text-align: right;\">\n",
              "      <th></th>\n",
              "      <th>device_id</th>\n",
              "      <th>dtInstall</th>\n",
              "      <th>idCountry</th>\n",
              "      <th>idTrafficType</th>\n",
              "      <th>ltvDay1</th>\n",
              "      <th>ltvDay2</th>\n",
              "      <th>ltvDay3</th>\n",
              "      <th>ltvDay4</th>\n",
              "      <th>ltvDay5</th>\n",
              "      <th>ltvDay6</th>\n",
              "      <th>ltvDay7</th>\n",
              "      <th>ltvDay8</th>\n",
              "      <th>ltvDay180</th>\n",
              "    </tr>\n",
              "  </thead>\n",
              "  <tbody>\n",
              "    <tr>\n",
              "      <th>0</th>\n",
              "      <td>device_0000001</td>\n",
              "      <td>2021-10-16</td>\n",
              "      <td>76</td>\n",
              "      <td>1</td>\n",
              "      <td>0.0</td>\n",
              "      <td>0.0</td>\n",
              "      <td>0.0</td>\n",
              "      <td>0.0</td>\n",
              "      <td>0.0</td>\n",
              "      <td>0.0</td>\n",
              "      <td>12.39</td>\n",
              "      <td>15.88</td>\n",
              "      <td>83.89</td>\n",
              "    </tr>\n",
              "    <tr>\n",
              "      <th>1</th>\n",
              "      <td>device_0000002</td>\n",
              "      <td>2021-10-28</td>\n",
              "      <td>202</td>\n",
              "      <td>1</td>\n",
              "      <td>0.0</td>\n",
              "      <td>0.0</td>\n",
              "      <td>0.0</td>\n",
              "      <td>0.0</td>\n",
              "      <td>0.0</td>\n",
              "      <td>0.0</td>\n",
              "      <td>0.00</td>\n",
              "      <td>0.00</td>\n",
              "      <td>17.96</td>\n",
              "    </tr>\n",
              "    <tr>\n",
              "      <th>2</th>\n",
              "      <td>device_0000003</td>\n",
              "      <td>2021-10-02</td>\n",
              "      <td>81</td>\n",
              "      <td>2</td>\n",
              "      <td>0.0</td>\n",
              "      <td>0.0</td>\n",
              "      <td>0.0</td>\n",
              "      <td>0.0</td>\n",
              "      <td>0.0</td>\n",
              "      <td>0.0</td>\n",
              "      <td>0.00</td>\n",
              "      <td>0.00</td>\n",
              "      <td>255.41</td>\n",
              "    </tr>\n",
              "    <tr>\n",
              "      <th>3</th>\n",
              "      <td>device_0000004</td>\n",
              "      <td>2021-10-29</td>\n",
              "      <td>67</td>\n",
              "      <td>1</td>\n",
              "      <td>0.0</td>\n",
              "      <td>0.0</td>\n",
              "      <td>0.0</td>\n",
              "      <td>0.0</td>\n",
              "      <td>0.0</td>\n",
              "      <td>0.0</td>\n",
              "      <td>0.00</td>\n",
              "      <td>0.00</td>\n",
              "      <td>57.82</td>\n",
              "    </tr>\n",
              "    <tr>\n",
              "      <th>4</th>\n",
              "      <td>device_0000005</td>\n",
              "      <td>2021-10-22</td>\n",
              "      <td>26</td>\n",
              "      <td>1</td>\n",
              "      <td>0.0</td>\n",
              "      <td>0.0</td>\n",
              "      <td>0.0</td>\n",
              "      <td>0.0</td>\n",
              "      <td>0.0</td>\n",
              "      <td>0.0</td>\n",
              "      <td>0.00</td>\n",
              "      <td>0.00</td>\n",
              "      <td>22.63</td>\n",
              "    </tr>\n",
              "  </tbody>\n",
              "</table>\n",
              "</div>\n",
              "      <button class=\"colab-df-convert\" onclick=\"convertToInteractive('df-ebba0f25-3a08-4e0c-92c4-51311cb93f6b')\"\n",
              "              title=\"Convert this dataframe to an interactive table.\"\n",
              "              style=\"display:none;\">\n",
              "        \n",
              "  <svg xmlns=\"http://www.w3.org/2000/svg\" height=\"24px\"viewBox=\"0 0 24 24\"\n",
              "       width=\"24px\">\n",
              "    <path d=\"M0 0h24v24H0V0z\" fill=\"none\"/>\n",
              "    <path d=\"M18.56 5.44l.94 2.06.94-2.06 2.06-.94-2.06-.94-.94-2.06-.94 2.06-2.06.94zm-11 1L8.5 8.5l.94-2.06 2.06-.94-2.06-.94L8.5 2.5l-.94 2.06-2.06.94zm10 10l.94 2.06.94-2.06 2.06-.94-2.06-.94-.94-2.06-.94 2.06-2.06.94z\"/><path d=\"M17.41 7.96l-1.37-1.37c-.4-.4-.92-.59-1.43-.59-.52 0-1.04.2-1.43.59L10.3 9.45l-7.72 7.72c-.78.78-.78 2.05 0 2.83L4 21.41c.39.39.9.59 1.41.59.51 0 1.02-.2 1.41-.59l7.78-7.78 2.81-2.81c.8-.78.8-2.07 0-2.86zM5.41 20L4 18.59l7.72-7.72 1.47 1.35L5.41 20z\"/>\n",
              "  </svg>\n",
              "      </button>\n",
              "      \n",
              "  <style>\n",
              "    .colab-df-container {\n",
              "      display:flex;\n",
              "      flex-wrap:wrap;\n",
              "      gap: 12px;\n",
              "    }\n",
              "\n",
              "    .colab-df-convert {\n",
              "      background-color: #E8F0FE;\n",
              "      border: none;\n",
              "      border-radius: 50%;\n",
              "      cursor: pointer;\n",
              "      display: none;\n",
              "      fill: #1967D2;\n",
              "      height: 32px;\n",
              "      padding: 0 0 0 0;\n",
              "      width: 32px;\n",
              "    }\n",
              "\n",
              "    .colab-df-convert:hover {\n",
              "      background-color: #E2EBFA;\n",
              "      box-shadow: 0px 1px 2px rgba(60, 64, 67, 0.3), 0px 1px 3px 1px rgba(60, 64, 67, 0.15);\n",
              "      fill: #174EA6;\n",
              "    }\n",
              "\n",
              "    [theme=dark] .colab-df-convert {\n",
              "      background-color: #3B4455;\n",
              "      fill: #D2E3FC;\n",
              "    }\n",
              "\n",
              "    [theme=dark] .colab-df-convert:hover {\n",
              "      background-color: #434B5C;\n",
              "      box-shadow: 0px 1px 3px 1px rgba(0, 0, 0, 0.15);\n",
              "      filter: drop-shadow(0px 1px 2px rgba(0, 0, 0, 0.3));\n",
              "      fill: #FFFFFF;\n",
              "    }\n",
              "  </style>\n",
              "\n",
              "      <script>\n",
              "        const buttonEl =\n",
              "          document.querySelector('#df-ebba0f25-3a08-4e0c-92c4-51311cb93f6b button.colab-df-convert');\n",
              "        buttonEl.style.display =\n",
              "          google.colab.kernel.accessAllowed ? 'block' : 'none';\n",
              "\n",
              "        async function convertToInteractive(key) {\n",
              "          const element = document.querySelector('#df-ebba0f25-3a08-4e0c-92c4-51311cb93f6b');\n",
              "          const dataTable =\n",
              "            await google.colab.kernel.invokeFunction('convertToInteractive',\n",
              "                                                     [key], {});\n",
              "          if (!dataTable) return;\n",
              "\n",
              "          const docLinkHtml = 'Like what you see? Visit the ' +\n",
              "            '<a target=\"_blank\" href=https://colab.research.google.com/notebooks/data_table.ipynb>data table notebook</a>'\n",
              "            + ' to learn more about interactive tables.';\n",
              "          element.innerHTML = '';\n",
              "          dataTable['output_type'] = 'display_data';\n",
              "          await google.colab.output.renderOutput(dataTable, element);\n",
              "          const docLink = document.createElement('div');\n",
              "          docLink.innerHTML = docLinkHtml;\n",
              "          element.appendChild(docLink);\n",
              "        }\n",
              "      </script>\n",
              "    </div>\n",
              "  </div>\n",
              "  "
            ]
          },
          "metadata": {},
          "execution_count": 57
        }
      ]
    },
    {
      "cell_type": "markdown",
      "source": [
        "Разделим данные на трейн и тест. Очень важно разделение проводить так, чтобы во время теста были известны все данные, которые используются в тренировочном наборе. Так, если модели нужно знать LTV 180 дня, то для обучения можно использовать только те когорты, которые установили раньше, чем за 180 дней до момента прогнозирования. Рассмотрим на примере. Пусть тестовый период будет в следующих датах:"
      ],
      "metadata": {
        "id": "YvcxnUz6MRDc"
      }
    },
    {
      "cell_type": "code",
      "source": [
        "start_date_test = '2021-09-21'\n",
        "end_date_test = '2021-10-21'"
      ],
      "metadata": {
        "id": "YMc8ITc8Lubp"
      },
      "execution_count": 58,
      "outputs": []
    },
    {
      "cell_type": "code",
      "source": [
        "fit_available_date = pd.Timestamp(start_date_test) - pd.Timedelta(days=180)"
      ],
      "metadata": {
        "id": "3DvoaeuCMVrR"
      },
      "execution_count": 59,
      "outputs": []
    },
    {
      "cell_type": "code",
      "source": [
        "fit_available_date"
      ],
      "metadata": {
        "colab": {
          "base_uri": "https://localhost:8080/"
        },
        "id": "L5yX7FNnMXvT",
        "outputId": "67383eee-3528-4102-8f4f-0f4ecd3d6eae"
      },
      "execution_count": 60,
      "outputs": [
        {
          "output_type": "execute_result",
          "data": {
            "text/plain": [
              "Timestamp('2021-03-25 00:00:00')"
            ]
          },
          "metadata": {},
          "execution_count": 60
        }
      ]
    },
    {
      "cell_type": "markdown",
      "source": [
        "Можно использовать данные раньше 2022-03-25. Возьмем для обучения 3-х месячный период до этой даты:"
      ],
      "metadata": {
        "id": "KSBHqBEZMjUx"
      }
    },
    {
      "cell_type": "code",
      "source": [
        "start_date_fit = '2020-12-25'\n",
        "end_date_fit = '2021-03-25'"
      ],
      "metadata": {
        "id": "3BTBmizhMigb"
      },
      "execution_count": 61,
      "outputs": []
    },
    {
      "cell_type": "markdown",
      "source": [
        "Модель будет работать только с теми устройствами, у которых есть платежи."
      ],
      "metadata": {
        "id": "J7o2Jk5gP4Qz"
      }
    },
    {
      "cell_type": "code",
      "source": [
        "df = df[df['ltvDay180'] > 0]\n",
        "\n",
        "df_fit = df[(df.dtInstall >= start_date_fit) & (df.dtInstall <= end_date_fit)]\n",
        "df_test = df[(df.dtInstall >= start_date_test) & (df.dtInstall <= end_date_test)]"
      ],
      "metadata": {
        "id": "XqE2vhKoM1KO"
      },
      "execution_count": 62,
      "outputs": []
    },
    {
      "cell_type": "markdown",
      "source": [
        "### Начинаем обучать модель catboost"
      ],
      "metadata": {
        "id": "jH6W4ppYQMrH"
      }
    },
    {
      "cell_type": "markdown",
      "source": [
        "Подход к обучению будет следующим. Данные для обучения разобьем 6 раз на тренировочный и валидационный набор, как при кросс-ввалидации. На каждом разбиении подбирем параметры модели, использую валидационной набор. Обучим модели с найденными параметрами на каждом разбиении. В итоге у нас получится 6 моделей. Итоговым прогнозом для устройства будет среднее прогнозов этих моделей. Таким образом прогноз будет более устойчив к выбросам"
      ],
      "metadata": {
        "id": "vPg_BfaUQOOY"
      }
    },
    {
      "cell_type": "code",
      "source": [
        "catboost_params = {'iterations': 900,\n",
        "                   'learning_rate': 0.05,\n",
        "                   'depth': 5,\n",
        "                   'custom_metric': ['MAE'],\n",
        "                   'random_seed': 63,\n",
        "                   'early_stopping_rounds': 50,\n",
        "                   'use_best_model': True}\n",
        "\n",
        "categorical_features = ['idCountry', 'idTrafficType']\n",
        "ltv_features = ['ltvDay1','ltvDay2','ltvDay3','ltvDay4','ltvDay5', 'ltvDay6','ltvDay7','ltvDay8']\n",
        "features = categorical_features + ltv_features\n",
        "categorical_features_index = [0, 1]\n",
        "\n",
        "last_day = 8\n",
        "target = ['ltvDay180']\n",
        "\n",
        "models_list = []\n",
        "random_state_list = [2,4,5,90,3567,180]\n",
        "for random_state in random_state_list:\n",
        "\n",
        "    X_train, X_valid, y_train, y_valid = train_test_split(df_fit[features],\n",
        "                                                          df_fit[target],\n",
        "                                                          test_size=0.2, \n",
        "                                                          random_state=random_state)\n",
        "\n",
        "    model = CatBoostRegressor(**catboost_params)\n",
        "    model.fit(X_train.astype('int'),\n",
        "              y_train.astype('int'),\n",
        "              cat_features=categorical_features_index,\n",
        "              eval_set=(X_valid.astype('int'), y_valid.astype('int')),\n",
        "              silent=True)\n",
        "    models_list.append(model)\n"
      ],
      "metadata": {
        "id": "h00llEOiQNJA"
      },
      "execution_count": 63,
      "outputs": []
    },
    {
      "cell_type": "markdown",
      "source": [
        "Взглянем на одну из моделей, попробуем оценить важность ее признаков с помощью shap."
      ],
      "metadata": {
        "id": "vudoL7fnc0df"
      }
    },
    {
      "cell_type": "code",
      "source": [
        "explainer = shap.TreeExplainer(model)\n",
        "shap_values = explainer.shap_values(X_train)\n",
        "shap.summary_plot(shap_values, X_train)"
      ],
      "metadata": {
        "colab": {
          "base_uri": "https://localhost:8080/",
          "height": 405
        },
        "id": "06sm-NJgcyat",
        "outputId": "f427cd1d-be64-4f28-bf3d-f9e46961ffd3"
      },
      "execution_count": 64,
      "outputs": [
        {
          "output_type": "display_data",
          "data": {
            "text/plain": [
              "<Figure size 576x396 with 2 Axes>"
            ],
            "image/png": "[encoded data removed]"
          },
          "metadata": {
            "needs_background": "light"
          }
        }
      ]
    },
    {
      "cell_type": "markdown",
      "source": [
        "Чем больше признак подкрашен в одну из сторон (красную и синиюю), тем больше влияния он имеет на финальный прогноз модели.Видно, что самыми важными признаками тут является ltvDay8, оно и неудивительно - на этот день аккумулируется максимально доступная информацию по платежам пользователей.\n",
        "\n",
        "Модель может давать прогноз, который меньше ltv 8 дня, поэтому необходимо ограничить возможной прогноз для каждого устройства уже фактическим для него значением LTV на 8 день. Далее получим данные с прогнозами:"
      ],
      "metadata": {
        "id": "IaoRbLYTdTYr"
      }
    },
    {
      "cell_type": "code",
      "source": [
        "df_test['predict_catboost'] = 0\n",
        "for model in models_list:\n",
        "    df_test['predict_catboost'] += model.predict(df_test[features])\n",
        "df_test['predict_catboost'] /= len(random_state_list)\n",
        "df_test['predict_catboost'] = round(df_test['predict_catboost'].clip(df_test[f'ltvDay{last_day}']),2)\n",
        "df_test.head()"
      ],
      "metadata": {
        "colab": {
          "base_uri": "https://localhost:8080/",
          "height": 206
        },
        "id": "pbGjggY-dK5S",
        "outputId": "3e668c9d-bd19-43b9-a456-19bfc2be000a"
      },
      "execution_count": 65,
      "outputs": [
        {
          "output_type": "execute_result",
          "data": {
            "text/plain": [
              "        device_id   dtInstall  idCountry  idTrafficType  ltvDay1  ltvDay2  \\\n",
              "0  device_0000001  2021-10-16         76              1     0.00     0.00   \n",
              "2  device_0000003  2021-10-02         81              2     0.00     0.00   \n",
              "7  device_0000008  2021-10-07        200              1   111.42   111.42   \n",
              "8  device_0000009  2021-10-02         67              1     0.00     0.00   \n",
              "9  device_0000010  2021-10-12         76              1    25.83    25.83   \n",
              "\n",
              "   ltvDay3  ltvDay4  ltvDay5  ltvDay6  ltvDay7  ltvDay8  ltvDay180  \\\n",
              "0     0.00     0.00     0.00     0.00    12.39    15.88      83.89   \n",
              "2     0.00     0.00     0.00     0.00     0.00     0.00     255.41   \n",
              "7   111.42   166.63   166.63   166.63   166.63   166.63    2789.79   \n",
              "8     0.00     0.00     0.00     0.00     0.00     0.00      61.46   \n",
              "9    51.28    51.28    51.28   337.78   388.66   414.10    1196.51   \n",
              "\n",
              "   predict_catboost  \n",
              "0            101.07  \n",
              "2             64.05  \n",
              "7            765.21  \n",
              "8             77.96  \n",
              "9           2042.60  "
            ],
            "text/html": [
              "\n",
              "  <div id=\"df-776e8da3-c675-45e1-8941-9774edd36654\">\n",
              "    <div class=\"colab-df-container\">\n",
              "      <div>\n",
              "<style scoped>\n",
              "    .dataframe tbody tr th:only-of-type {\n",
              "        vertical-align: middle;\n",
              "    }\n",
              "\n",
              "    .dataframe tbody tr th {\n",
              "        vertical-align: top;\n",
              "    }\n",
              "\n",
              "    .dataframe thead th {\n",
              "        text-align: right;\n",
              "    }\n",
              "</style>\n",
              "<table border=\"1\" class=\"dataframe\">\n",
              "  <thead>\n",
              "    <tr style=\"text-align: right;\">\n",
              "      <th></th>\n",
              "      <th>device_id</th>\n",
              "      <th>dtInstall</th>\n",
              "      <th>idCountry</th>\n",
              "      <th>idTrafficType</th>\n",
              "      <th>ltvDay1</th>\n",
              "      <th>ltvDay2</th>\n",
              "      <th>ltvDay3</th>\n",
              "      <th>ltvDay4</th>\n",
              "      <th>ltvDay5</th>\n",
              "      <th>ltvDay6</th>\n",
              "      <th>ltvDay7</th>\n",
              "      <th>ltvDay8</th>\n",
              "      <th>ltvDay180</th>\n",
              "      <th>predict_catboost</th>\n",
              "    </tr>\n",
              "  </thead>\n",
              "  <tbody>\n",
              "    <tr>\n",
              "      <th>0</th>\n",
              "      <td>device_0000001</td>\n",
              "      <td>2021-10-16</td>\n",
              "      <td>76</td>\n",
              "      <td>1</td>\n",
              "      <td>0.00</td>\n",
              "      <td>0.00</td>\n",
              "      <td>0.00</td>\n",
              "      <td>0.00</td>\n",
              "      <td>0.00</td>\n",
              "      <td>0.00</td>\n",
              "      <td>12.39</td>\n",
              "      <td>15.88</td>\n",
              "      <td>83.89</td>\n",
              "      <td>101.07</td>\n",
              "    </tr>\n",
              "    <tr>\n",
              "      <th>2</th>\n",
              "      <td>device_0000003</td>\n",
              "      <td>2021-10-02</td>\n",
              "      <td>81</td>\n",
              "      <td>2</td>\n",
              "      <td>0.00</td>\n",
              "      <td>0.00</td>\n",
              "      <td>0.00</td>\n",
              "      <td>0.00</td>\n",
              "      <td>0.00</td>\n",
              "      <td>0.00</td>\n",
              "      <td>0.00</td>\n",
              "      <td>0.00</td>\n",
              "      <td>255.41</td>\n",
              "      <td>64.05</td>\n",
              "    </tr>\n",
              "    <tr>\n",
              "      <th>7</th>\n",
              "      <td>device_0000008</td>\n",
              "      <td>2021-10-07</td>\n",
              "      <td>200</td>\n",
              "      <td>1</td>\n",
              "      <td>111.42</td>\n",
              "      <td>111.42</td>\n",
              "      <td>111.42</td>\n",
              "      <td>166.63</td>\n",
              "      <td>166.63</td>\n",
              "      <td>166.63</td>\n",
              "      <td>166.63</td>\n",
              "      <td>166.63</td>\n",
              "      <td>2789.79</td>\n",
              "      <td>765.21</td>\n",
              "    </tr>\n",
              "    <tr>\n",
              "      <th>8</th>\n",
              "      <td>device_0000009</td>\n",
              "      <td>2021-10-02</td>\n",
              "      <td>67</td>\n",
              "      <td>1</td>\n",
              "      <td>0.00</td>\n",
              "      <td>0.00</td>\n",
              "      <td>0.00</td>\n",
              "      <td>0.00</td>\n",
              "      <td>0.00</td>\n",
              "      <td>0.00</td>\n",
              "      <td>0.00</td>\n",
              "      <td>0.00</td>\n",
              "      <td>61.46</td>\n",
              "      <td>77.96</td>\n",
              "    </tr>\n",
              "    <tr>\n",
              "      <th>9</th>\n",
              "      <td>device_0000010</td>\n",
              "      <td>2021-10-12</td>\n",
              "      <td>76</td>\n",
              "      <td>1</td>\n",
              "      <td>25.83</td>\n",
              "      <td>25.83</td>\n",
              "      <td>51.28</td>\n",
              "      <td>51.28</td>\n",
              "      <td>51.28</td>\n",
              "      <td>337.78</td>\n",
              "      <td>388.66</td>\n",
              "      <td>414.10</td>\n",
              "      <td>1196.51</td>\n",
              "      <td>2042.60</td>\n",
              "    </tr>\n",
              "  </tbody>\n",
              "</table>\n",
              "</div>\n",
              "      <button class=\"colab-df-convert\" onclick=\"convertToInteractive('df-776e8da3-c675-45e1-8941-9774edd36654')\"\n",
              "              title=\"Convert this dataframe to an interactive table.\"\n",
              "              style=\"display:none;\">\n",
              "        \n",
              "  <svg xmlns=\"http://www.w3.org/2000/svg\" height=\"24px\"viewBox=\"0 0 24 24\"\n",
              "       width=\"24px\">\n",
              "    <path d=\"M0 0h24v24H0V0z\" fill=\"none\"/>\n",
              "    <path d=\"M18.56 5.44l.94 2.06.94-2.06 2.06-.94-2.06-.94-.94-2.06-.94 2.06-2.06.94zm-11 1L8.5 8.5l.94-2.06 2.06-.94-2.06-.94L8.5 2.5l-.94 2.06-2.06.94zm10 10l.94 2.06.94-2.06 2.06-.94-2.06-.94-.94-2.06-.94 2.06-2.06.94z\"/><path d=\"M17.41 7.96l-1.37-1.37c-.4-.4-.92-.59-1.43-.59-.52 0-1.04.2-1.43.59L10.3 9.45l-7.72 7.72c-.78.78-.78 2.05 0 2.83L4 21.41c.39.39.9.59 1.41.59.51 0 1.02-.2 1.41-.59l7.78-7.78 2.81-2.81c.8-.78.8-2.07 0-2.86zM5.41 20L4 18.59l7.72-7.72 1.47 1.35L5.41 20z\"/>\n",
              "  </svg>\n",
              "      </button>\n",
              "      \n",
              "  <style>\n",
              "    .colab-df-container {\n",
              "      display:flex;\n",
              "      flex-wrap:wrap;\n",
              "      gap: 12px;\n",
              "    }\n",
              "\n",
              "    .colab-df-convert {\n",
              "      background-color: #E8F0FE;\n",
              "      border: none;\n",
              "      border-radius: 50%;\n",
              "      cursor: pointer;\n",
              "      display: none;\n",
              "      fill: #1967D2;\n",
              "      height: 32px;\n",
              "      padding: 0 0 0 0;\n",
              "      width: 32px;\n",
              "    }\n",
              "\n",
              "    .colab-df-convert:hover {\n",
              "      background-color: #E2EBFA;\n",
              "      box-shadow: 0px 1px 2px rgba(60, 64, 67, 0.3), 0px 1px 3px 1px rgba(60, 64, 67, 0.15);\n",
              "      fill: #174EA6;\n",
              "    }\n",
              "\n",
              "    [theme=dark] .colab-df-convert {\n",
              "      background-color: #3B4455;\n",
              "      fill: #D2E3FC;\n",
              "    }\n",
              "\n",
              "    [theme=dark] .colab-df-convert:hover {\n",
              "      background-color: #434B5C;\n",
              "      box-shadow: 0px 1px 3px 1px rgba(0, 0, 0, 0.15);\n",
              "      filter: drop-shadow(0px 1px 2px rgba(0, 0, 0, 0.3));\n",
              "      fill: #FFFFFF;\n",
              "    }\n",
              "  </style>\n",
              "\n",
              "      <script>\n",
              "        const buttonEl =\n",
              "          document.querySelector('#df-776e8da3-c675-45e1-8941-9774edd36654 button.colab-df-convert');\n",
              "        buttonEl.style.display =\n",
              "          google.colab.kernel.accessAllowed ? 'block' : 'none';\n",
              "\n",
              "        async function convertToInteractive(key) {\n",
              "          const element = document.querySelector('#df-776e8da3-c675-45e1-8941-9774edd36654');\n",
              "          const dataTable =\n",
              "            await google.colab.kernel.invokeFunction('convertToInteractive',\n",
              "                                                     [key], {});\n",
              "          if (!dataTable) return;\n",
              "\n",
              "          const docLinkHtml = 'Like what you see? Visit the ' +\n",
              "            '<a target=\"_blank\" href=https://colab.research.google.com/notebooks/data_table.ipynb>data table notebook</a>'\n",
              "            + ' to learn more about interactive tables.';\n",
              "          element.innerHTML = '';\n",
              "          dataTable['output_type'] = 'display_data';\n",
              "          await google.colab.output.renderOutput(dataTable, element);\n",
              "          const docLink = document.createElement('div');\n",
              "          docLink.innerHTML = docLinkHtml;\n",
              "          element.appendChild(docLink);\n",
              "        }\n",
              "      </script>\n",
              "    </div>\n",
              "  </div>\n",
              "  "
            ]
          },
          "metadata": {},
          "execution_count": 65
        }
      ]
    },
    {
      "cell_type": "markdown",
      "source": [
        "### Линейная модель"
      ],
      "metadata": {
        "id": "OsIAebGzf-vf"
      }
    },
    {
      "cell_type": "markdown",
      "source": [
        "Теперь рассмотрим другой подход. Будем использовать простую линейную регрессию на признаках кумулятивных платежей. Так же строим 6 моделей по разным разбиениям данных, потом при прогнозировании будем брать среднее среди них."
      ],
      "metadata": {
        "id": "s8C_lhuHgCAn"
      }
    },
    {
      "cell_type": "code",
      "source": [
        "ridge_list = []\n",
        "for random_state in random_state_list:\n",
        "\n",
        "    X_train, X_valid, y_train, y_valid = train_test_split(df_fit[features],\n",
        "                                                          df_fit[target],\n",
        "                                                          test_size=0.2, \n",
        "                                                          random_state=random_state)\n",
        "\n",
        "    model = Ridge(fit_intercept=False)\n",
        "    model.fit(X_train[ltv_features].astype('int'),\n",
        "              y_train.astype('int'))\n",
        "    ridge_list.append(model)\n",
        "    \n",
        "df_test['predict_ridge'] = 0\n",
        "for model in ridge_list:\n",
        "    df_test['predict_ridge'] += model.predict(df_test[ltv_features].astype('int')).reshape(-1)\n",
        "df_test['predict_ridge'] /= len(random_state_list)\n",
        "df_test['predict_ridge'] = round(df_test['predict_ridge'].clip(df_test[f'ltvDay{last_day}']), 2)"
      ],
      "metadata": {
        "id": "dgY7wjrpfUEB"
      },
      "execution_count": 66,
      "outputs": []
    },
    {
      "cell_type": "markdown",
      "source": [
        "Рассмотрим значения коеффициентов каждого признака у последней модели. "
      ],
      "metadata": {
        "id": "s63ZlmX3gGFT"
      }
    },
    {
      "cell_type": "code",
      "source": [
        "model_feature_coef = {item[0]: item[1] for item in zip(ltv_features, list(model.coef_[0]))}\n",
        "for key, value in model_feature_coef.items():\n",
        "    print(f\"{key}: {value}\")"
      ],
      "metadata": {
        "colab": {
          "base_uri": "https://localhost:8080/"
        },
        "id": "hILranlqgGcv",
        "outputId": "f05351ce-b88d-40b8-f8a8-f2b1701b4cfb"
      },
      "execution_count": 67,
      "outputs": [
        {
          "output_type": "stream",
          "name": "stdout",
          "text": [
            "ltvDay1: -0.5729238765495452\n",
            "ltvDay2: 0.4966323790926837\n",
            "ltvDay3: -1.411067907152586\n",
            "ltvDay4: -0.569237305929537\n",
            "ltvDay5: -0.09871755503867559\n",
            "ltvDay6: -2.554070323527852\n",
            "ltvDay7: 3.431151127557234\n",
            "ltvDay8: 4.2524979036319355\n"
          ]
        }
      ]
    },
    {
      "cell_type": "markdown",
      "source": [
        "Видно, что как и бустинга, самая важная фича - это кумулятивный платеж к 8 дню."
      ],
      "metadata": {
        "id": "VRmgo5DAgL_S"
      }
    },
    {
      "cell_type": "markdown",
      "source": [
        "## Функция подсчета  ошибки"
      ],
      "metadata": {
        "id": "9SC6N9blziFi"
      }
    },
    {
      "cell_type": "markdown",
      "source": [
        "Для того, чтобы посчитать метрики, формулы которых указаны в начале, напишем функцию подсчета ошибок."
      ],
      "metadata": {
        "id": "shwI7oGczkEz"
      }
    },
    {
      "cell_type": "code",
      "source": [
        "def get_errors(df, predict_columns=[],\n",
        "               target_column=['ltvDay180'], \n",
        "               date_column=['dtInstall'], \n",
        "               weighted=[]):\n",
        "    \n",
        "    if len(predict_columns) == 0:\n",
        "        raise Exception(\"Zero len of predict columns! Can't calculate any error\")\n",
        "        \n",
        "    columns = predict_columns + target_column\n",
        "    \n",
        "    # считаем обычную ошибку\n",
        "    if len(weighted) == 0:\n",
        "        df_error = df.groupby(date_column[0])[columns].sum().reset_index()\n",
        "        for col in predict_columns:\n",
        "\n",
        "            error = np.abs((df_error[col] / df_error[target_column[0]]) - 1)\n",
        "            df_error[col + '_error'] = error\n",
        "        \n",
        "        df_error.drop(columns, axis=1, inplace=True)\n",
        "        return df_error\n",
        "    \n",
        "    # считаем средневзвешенную ошибку\n",
        "    else:\n",
        "        groupby_cols = [date_column[0]] + weighted\n",
        "        df_error = df.groupby(groupby_cols)[columns].sum().reset_index()\n",
        "        drop_columns = target_column\n",
        "        \n",
        "        # в этом датафрейме будем хранить ошибки\n",
        "        buff_df = pd.DataFrame()\n",
        "        buff_df[date_column[0]] = sorted(df[date_column[0]].unique())\n",
        "        for col in predict_columns:\n",
        "            df_error[col + '_error'] = np.abs((df_error[col] / df_error[target_column[0]] - 1))\n",
        "\n",
        "            df_error['mult_' + col] = df_error[col + '_error'] * df_error[target_column[0]]\n",
        "            \n",
        "            temp_df = df_error.groupby(date_column[0])[target_column[0], \n",
        "                                                    'mult_' + col].sum().reset_index()\n",
        "            \n",
        "            temp_df[col + '_error_weighted'] = temp_df['mult_' + col]/temp_df[target_column[0]]\n",
        "            \n",
        "            buff_df = buff_df.merge(temp_df[[date_column[0], col + '_error_weighted']], \n",
        "                                   how='left', on=date_column[0])\n",
        "    \n",
        "        return buff_df"
      ],
      "metadata": {
        "id": "D5uOTku8znwD"
      },
      "execution_count": 68,
      "outputs": []
    },
    {
      "cell_type": "markdown",
      "source": [
        "# Качество моделей"
      ],
      "metadata": {
        "id": "7jy2o5hX0Agb"
      }
    },
    {
      "cell_type": "markdown",
      "source": [
        "Посчитаем дневные ошибки для линейной модели и модели катбуста."
      ],
      "metadata": {
        "id": "7tXHyIhz0C0_"
      }
    },
    {
      "cell_type": "code",
      "source": [
        "predict_columns = ['predict_catboost', 'predict_ridge']\n",
        "df_day_errors = get_errors(df_test, predict_columns=predict_columns)"
      ],
      "metadata": {
        "id": "GSR4A-E4gIX5"
      },
      "execution_count": 69,
      "outputs": []
    },
    {
      "cell_type": "markdown",
      "source": [
        "Отрисуем ошибки"
      ],
      "metadata": {
        "id": "eyIATO3X0L1K"
      }
    },
    {
      "cell_type": "code",
      "source": [
        "layout = go.Layout()\n",
        "fig = go.Figure()\n",
        "\n",
        "# две кривые\n",
        "for col in predict_columns:\n",
        "    name = col.split('_')[1] + '_error'\n",
        "    fig.add_trace(go.Scatter(x=df_day_errors.dtInstall, y=df_day_errors[col + '_error'], name=name))\n",
        "\n",
        "# свойства графика\n",
        "fig.update_layout(\n",
        "    title_text=\"Day-app errors catboost and ridge.\",\n",
        "    title_font_size=20,\n",
        "    yaxis_title='Error',\n",
        "    xaxis_title='date'\n",
        ")\n",
        "fig"
      ],
      "metadata": {
        "colab": {
          "base_uri": "https://localhost:8080/",
          "height": 542
        },
        "id": "cpreRgD_0I9B",
        "outputId": "c487bd66-8fa2-4085-e83a-210406de2870"
      },
      "execution_count": 70,
      "outputs": [
        {
          "output_type": "display_data",
          "data": {
            "text/html": [
              "<html>\n",
              "<head><meta charset=\"utf-8\" /></head>\n",
              "<body>\n",
              "    <div>            <script src=\"https://cdnjs.cloudflare.com/ajax/libs/mathjax/2.7.5/MathJax.js?config=TeX-AMS-MML_SVG\"></script><script type=\"text/javascript\">if (window.MathJax) {MathJax.Hub.Config({SVG: {font: \"STIX-Web\"}});}</script>                <script type=\"text/javascript\">window.PlotlyConfig = {MathJaxConfig: 'local'};</script>\n",
              "        <script src=\"https://cdn.plot.ly/plotly-2.8.3.min.js\"></script>                <div id=\"edcd2436-2589-47a3-833a-56e6f2e2d860\" class=\"plotly-graph-div\" style=\"height:525px; width:100%;\"></div>            <script type=\"text/javascript\">                                    window.PLOTLYENV=window.PLOTLYENV || {};                                    if (document.getElementById(\"edcd2436-2589-47a3-833a-56e6f2e2d860\")) {                    Plotly.newPlot(                        \"edcd2436-2589-47a3-833a-56e6f2e2d860\",                        [{\"name\":\"catboost_error\",\"x\":[\"2021-09-21\",\"2021-09-22\",\"2021-09-23\",\"2021-09-24\",\"2021-09-25\",\"2021-09-26\",\"2021-09-27\",\"2021-09-28\",\"2021-09-29\",\"2021-09-30\",\"2021-10-01\",\"2021-10-02\",\"2021-10-03\",\"2021-10-04\",\"2021-10-05\",\"2021-10-06\",\"2021-10-07\",\"2021-10-08\",\"2021-10-09\",\"2021-10-10\",\"2021-10-11\",\"2021-10-12\",\"2021-10-13\",\"2021-10-14\",\"2021-10-15\",\"2021-10-16\",\"2021-10-17\",\"2021-10-18\",\"2021-10-19\",\"2021-10-20\",\"2021-10-21\"],\"y\":[0.2001542449656366,0.6780396622131619,0.12603581878748238,0.08179048448573112,0.08080279232111698,0.6663686304718,0.009783836177054361,0.2774087813048306,0.009274911479946413,0.14613934277939755,0.05013811280248359,0.0376096814199387,0.10625193478485184,0.12340697100847486,0.11241446490551388,0.4195713058277293,0.17124490390449842,0.6534379756780202,0.5095665099610316,0.3524153598883877,0.2392629041988832,0.1969038496461757,0.05715727739543608,0.6140899199536294,0.45115498767168916,1.2114741504920237,0.5733166599770687,0.315866085992216,0.03367364791268068,0.41034432452773006,0.14324353999291017],\"type\":\"scatter\"},{\"name\":\"ridge_error\",\"x\":[\"2021-09-21\",\"2021-09-22\",\"2021-09-23\",\"2021-09-24\",\"2021-09-25\",\"2021-09-26\",\"2021-09-27\",\"2021-09-28\",\"2021-09-29\",\"2021-09-30\",\"2021-10-01\",\"2021-10-02\",\"2021-10-03\",\"2021-10-04\",\"2021-10-05\",\"2021-10-06\",\"2021-10-07\",\"2021-10-08\",\"2021-10-09\",\"2021-10-10\",\"2021-10-11\",\"2021-10-12\",\"2021-10-13\",\"2021-10-14\",\"2021-10-15\",\"2021-10-16\",\"2021-10-17\",\"2021-10-18\",\"2021-10-19\",\"2021-10-20\",\"2021-10-21\"],\"y\":[0.6492263721343778,0.37925701088323904,0.546195177629544,0.5441394538603013,0.6712375894519735,0.4686301822099178,0.6537477114328354,0.679953540115823,0.6482700533904158,0.5622397830022534,0.6138180105026187,0.6148319283251085,0.6146290157534482,0.605178232528586,0.6421249112586904,0.39716035205410793,0.7419249788215955,0.908179732930539,0.5437380105765699,0.7528918129659069,0.31177023653772606,0.3357126057975415,0.2159794281209383,0.04185807157976096,0.018005080306946697,0.21825121805603698,0.31142450055888793,0.24781789503717133,0.40220630701303894,0.31985433844647293,0.4697652532084362],\"type\":\"scatter\"}],                        {\"template\":{\"data\":{\"bar\":[{\"error_x\":{\"color\":\"#2a3f5f\"},\"error_y\":{\"color\":\"#2a3f5f\"},\"marker\":{\"line\":{\"color\":\"#E5ECF6\",\"width\":0.5},\"pattern\":{\"fillmode\":\"overlay\",\"size\":10,\"solidity\":0.2}},\"type\":\"bar\"}],\"barpolar\":[{\"marker\":{\"line\":{\"color\":\"#E5ECF6\",\"width\":0.5},\"pattern\":{\"fillmode\":\"overlay\",\"size\":10,\"solidity\":0.2}},\"type\":\"barpolar\"}],\"carpet\":[{\"aaxis\":{\"endlinecolor\":\"#2a3f5f\",\"gridcolor\":\"white\",\"linecolor\":\"white\",\"minorgridcolor\":\"white\",\"startlinecolor\":\"#2a3f5f\"},\"baxis\":{\"endlinecolor\":\"#2a3f5f\",\"gridcolor\":\"white\",\"linecolor\":\"white\",\"minorgridcolor\":\"white\",\"startlinecolor\":\"#2a3f5f\"},\"type\":\"carpet\"}],\"choropleth\":[{\"colorbar\":{\"outlinewidth\":0,\"ticks\":\"\"},\"type\":\"choropleth\"}],\"contour\":[{\"colorbar\":{\"outlinewidth\":0,\"ticks\":\"\"},\"colorscale\":[[0.0,\"#0d0887\"],[0.1111111111111111,\"#46039f\"],[0.2222222222222222,\"#7201a8\"],[0.3333333333333333,\"#9c179e\"],[0.4444444444444444,\"#bd3786\"],[0.5555555555555556,\"#d8576b\"],[0.6666666666666666,\"#ed7953\"],[0.7777777777777778,\"#fb9f3a\"],[0.8888888888888888,\"#fdca26\"],[1.0,\"#f0f921\"]],\"type\":\"contour\"}],\"contourcarpet\":[{\"colorbar\":{\"outlinewidth\":0,\"ticks\":\"\"},\"type\":\"contourcarpet\"}],\"heatmap\":[{\"colorbar\":{\"outlinewidth\":0,\"ticks\":\"\"},\"colorscale\":[[0.0,\"#0d0887\"],[0.1111111111111111,\"#46039f\"],[0.2222222222222222,\"#7201a8\"],[0.3333333333333333,\"#9c179e\"],[0.4444444444444444,\"#bd3786\"],[0.5555555555555556,\"#d8576b\"],[0.6666666666666666,\"#ed7953\"],[0.7777777777777778,\"#fb9f3a\"],[0.8888888888888888,\"#fdca26\"],[1.0,\"#f0f921\"]],\"type\":\"heatmap\"}],\"heatmapgl\":[{\"colorbar\":{\"outlinewidth\":0,\"ticks\":\"\"},\"colorscale\":[[0.0,\"#0d0887\"],[0.1111111111111111,\"#46039f\"],[0.2222222222222222,\"#7201a8\"],[0.3333333333333333,\"#9c179e\"],[0.4444444444444444,\"#bd3786\"],[0.5555555555555556,\"#d8576b\"],[0.6666666666666666,\"#ed7953\"],[0.7777777777777778,\"#fb9f3a\"],[0.8888888888888888,\"#fdca26\"],[1.0,\"#f0f921\"]],\"type\":\"heatmapgl\"}],\"histogram\":[{\"marker\":{\"pattern\":{\"fillmode\":\"overlay\",\"size\":10,\"solidity\":0.2}},\"type\":\"histogram\"}],\"histogram2d\":[{\"colorbar\":{\"outlinewidth\":0,\"ticks\":\"\"},\"colorscale\":[[0.0,\"#0d0887\"],[0.1111111111111111,\"#46039f\"],[0.2222222222222222,\"#7201a8\"],[0.3333333333333333,\"#9c179e\"],[0.4444444444444444,\"#bd3786\"],[0.5555555555555556,\"#d8576b\"],[0.6666666666666666,\"#ed7953\"],[0.7777777777777778,\"#fb9f3a\"],[0.8888888888888888,\"#fdca26\"],[1.0,\"#f0f921\"]],\"type\":\"histogram2d\"}],\"histogram2dcontour\":[{\"colorbar\":{\"outlinewidth\":0,\"ticks\":\"\"},\"colorscale\":[[0.0,\"#0d0887\"],[0.1111111111111111,\"#46039f\"],[0.2222222222222222,\"#7201a8\"],[0.3333333333333333,\"#9c179e\"],[0.4444444444444444,\"#bd3786\"],[0.5555555555555556,\"#d8576b\"],[0.6666666666666666,\"#ed7953\"],[0.7777777777777778,\"#fb9f3a\"],[0.8888888888888888,\"#fdca26\"],[1.0,\"#f0f921\"]],\"type\":\"histogram2dcontour\"}],\"mesh3d\":[{\"colorbar\":{\"outlinewidth\":0,\"ticks\":\"\"},\"type\":\"mesh3d\"}],\"parcoords\":[{\"line\":{\"colorbar\":{\"outlinewidth\":0,\"ticks\":\"\"}},\"type\":\"parcoords\"}],\"pie\":[{\"automargin\":true,\"type\":\"pie\"}],\"scatter\":[{\"marker\":{\"colorbar\":{\"outlinewidth\":0,\"ticks\":\"\"}},\"type\":\"scatter\"}],\"scatter3d\":[{\"line\":{\"colorbar\":{\"outlinewidth\":0,\"ticks\":\"\"}},\"marker\":{\"colorbar\":{\"outlinewidth\":0,\"ticks\":\"\"}},\"type\":\"scatter3d\"}],\"scattercarpet\":[{\"marker\":{\"colorbar\":{\"outlinewidth\":0,\"ticks\":\"\"}},\"type\":\"scattercarpet\"}],\"scattergeo\":[{\"marker\":{\"colorbar\":{\"outlinewidth\":0,\"ticks\":\"\"}},\"type\":\"scattergeo\"}],\"scattergl\":[{\"marker\":{\"colorbar\":{\"outlinewidth\":0,\"ticks\":\"\"}},\"type\":\"scattergl\"}],\"scattermapbox\":[{\"marker\":{\"colorbar\":{\"outlinewidth\":0,\"ticks\":\"\"}},\"type\":\"scattermapbox\"}],\"scatterpolar\":[{\"marker\":{\"colorbar\":{\"outlinewidth\":0,\"ticks\":\"\"}},\"type\":\"scatterpolar\"}],\"scatterpolargl\":[{\"marker\":{\"colorbar\":{\"outlinewidth\":0,\"ticks\":\"\"}},\"type\":\"scatterpolargl\"}],\"scatterternary\":[{\"marker\":{\"colorbar\":{\"outlinewidth\":0,\"ticks\":\"\"}},\"type\":\"scatterternary\"}],\"surface\":[{\"colorbar\":{\"outlinewidth\":0,\"ticks\":\"\"},\"colorscale\":[[0.0,\"#0d0887\"],[0.1111111111111111,\"#46039f\"],[0.2222222222222222,\"#7201a8\"],[0.3333333333333333,\"#9c179e\"],[0.4444444444444444,\"#bd3786\"],[0.5555555555555556,\"#d8576b\"],[0.6666666666666666,\"#ed7953\"],[0.7777777777777778,\"#fb9f3a\"],[0.8888888888888888,\"#fdca26\"],[1.0,\"#f0f921\"]],\"type\":\"surface\"}],\"table\":[{\"cells\":{\"fill\":{\"color\":\"#EBF0F8\"},\"line\":{\"color\":\"white\"}},\"header\":{\"fill\":{\"color\":\"#C8D4E3\"},\"line\":{\"color\":\"white\"}},\"type\":\"table\"}]},\"layout\":{\"annotationdefaults\":{\"arrowcolor\":\"#2a3f5f\",\"arrowhead\":0,\"arrowwidth\":1},\"autotypenumbers\":\"strict\",\"coloraxis\":{\"colorbar\":{\"outlinewidth\":0,\"ticks\":\"\"}},\"colorscale\":{\"diverging\":[[0,\"#8e0152\"],[0.1,\"#c51b7d\"],[0.2,\"#de77ae\"],[0.3,\"#f1b6da\"],[0.4,\"#fde0ef\"],[0.5,\"#f7f7f7\"],[0.6,\"#e6f5d0\"],[0.7,\"#b8e186\"],[0.8,\"#7fbc41\"],[0.9,\"#4d9221\"],[1,\"#276419\"]],\"sequential\":[[0.0,\"#0d0887\"],[0.1111111111111111,\"#46039f\"],[0.2222222222222222,\"#7201a8\"],[0.3333333333333333,\"#9c179e\"],[0.4444444444444444,\"#bd3786\"],[0.5555555555555556,\"#d8576b\"],[0.6666666666666666,\"#ed7953\"],[0.7777777777777778,\"#fb9f3a\"],[0.8888888888888888,\"#fdca26\"],[1.0,\"#f0f921\"]],\"sequentialminus\":[[0.0,\"#0d0887\"],[0.1111111111111111,\"#46039f\"],[0.2222222222222222,\"#7201a8\"],[0.3333333333333333,\"#9c179e\"],[0.4444444444444444,\"#bd3786\"],[0.5555555555555556,\"#d8576b\"],[0.6666666666666666,\"#ed7953\"],[0.7777777777777778,\"#fb9f3a\"],[0.8888888888888888,\"#fdca26\"],[1.0,\"#f0f921\"]]},\"colorway\":[\"#636efa\",\"#EF553B\",\"#00cc96\",\"#ab63fa\",\"#FFA15A\",\"#19d3f3\",\"#FF6692\",\"#B6E880\",\"#FF97FF\",\"#FECB52\"],\"font\":{\"color\":\"#2a3f5f\"},\"geo\":{\"bgcolor\":\"white\",\"lakecolor\":\"white\",\"landcolor\":\"#E5ECF6\",\"showlakes\":true,\"showland\":true,\"subunitcolor\":\"white\"},\"hoverlabel\":{\"align\":\"left\"},\"hovermode\":\"closest\",\"mapbox\":{\"style\":\"light\"},\"paper_bgcolor\":\"white\",\"plot_bgcolor\":\"#E5ECF6\",\"polar\":{\"angularaxis\":{\"gridcolor\":\"white\",\"linecolor\":\"white\",\"ticks\":\"\"},\"bgcolor\":\"#E5ECF6\",\"radialaxis\":{\"gridcolor\":\"white\",\"linecolor\":\"white\",\"ticks\":\"\"}},\"scene\":{\"xaxis\":{\"backgroundcolor\":\"#E5ECF6\",\"gridcolor\":\"white\",\"gridwidth\":2,\"linecolor\":\"white\",\"showbackground\":true,\"ticks\":\"\",\"zerolinecolor\":\"white\"},\"yaxis\":{\"backgroundcolor\":\"#E5ECF6\",\"gridcolor\":\"white\",\"gridwidth\":2,\"linecolor\":\"white\",\"showbackground\":true,\"ticks\":\"\",\"zerolinecolor\":\"white\"},\"zaxis\":{\"backgroundcolor\":\"#E5ECF6\",\"gridcolor\":\"white\",\"gridwidth\":2,\"linecolor\":\"white\",\"showbackground\":true,\"ticks\":\"\",\"zerolinecolor\":\"white\"}},\"shapedefaults\":{\"line\":{\"color\":\"#2a3f5f\"}},\"ternary\":{\"aaxis\":{\"gridcolor\":\"white\",\"linecolor\":\"white\",\"ticks\":\"\"},\"baxis\":{\"gridcolor\":\"white\",\"linecolor\":\"white\",\"ticks\":\"\"},\"bgcolor\":\"#E5ECF6\",\"caxis\":{\"gridcolor\":\"white\",\"linecolor\":\"white\",\"ticks\":\"\"}},\"title\":{\"x\":0.05},\"xaxis\":{\"automargin\":true,\"gridcolor\":\"white\",\"linecolor\":\"white\",\"ticks\":\"\",\"title\":{\"standoff\":15},\"zerolinecolor\":\"white\",\"zerolinewidth\":2},\"yaxis\":{\"automargin\":true,\"gridcolor\":\"white\",\"linecolor\":\"white\",\"ticks\":\"\",\"title\":{\"standoff\":15},\"zerolinecolor\":\"white\",\"zerolinewidth\":2}}},\"title\":{\"font\":{\"size\":20},\"text\":\"Day-app errors catboost and ridge.\"},\"yaxis\":{\"title\":{\"text\":\"Error\"}},\"xaxis\":{\"title\":{\"text\":\"date\"}}},                        {\"responsive\": true}                    ).then(function(){\n",
              "                            \n",
              "var gd = document.getElementById('edcd2436-2589-47a3-833a-56e6f2e2d860');\n",
              "var x = new MutationObserver(function (mutations, observer) {{\n",
              "        var display = window.getComputedStyle(gd).display;\n",
              "        if (!display || display === 'none') {{\n",
              "            console.log([gd, 'removed!']);\n",
              "            Plotly.purge(gd);\n",
              "            observer.disconnect();\n",
              "        }}\n",
              "}});\n",
              "\n",
              "// Listen for the removal of the full notebook cells\n",
              "var notebookContainer = gd.closest('#notebook-container');\n",
              "if (notebookContainer) {{\n",
              "    x.observe(notebookContainer, {childList: true});\n",
              "}}\n",
              "\n",
              "// Listen for the clearing of the current output cell\n",
              "var outputEl = gd.closest('.output');\n",
              "if (outputEl) {{\n",
              "    x.observe(outputEl, {childList: true});\n",
              "}}\n",
              "\n",
              "                        })                };                            </script>        </div>\n",
              "</body>\n",
              "</html>"
            ]
          },
          "metadata": {}
        }
      ]
    },
    {
      "cell_type": "code",
      "source": [
        "df_day_errors.mean()"
      ],
      "metadata": {
        "colab": {
          "base_uri": "https://localhost:8080/"
        },
        "id": "5X4y6NNi0NmP",
        "outputId": "0121b68b-cb0f-4f66-fba6-4e7797ae29ce"
      },
      "execution_count": 71,
      "outputs": [
        {
          "output_type": "execute_result",
          "data": {
            "text/plain": [
              "predict_catboost_error    0.292205\n",
              "predict_ridge_error       0.488065\n",
              "dtype: float64"
            ]
          },
          "metadata": {},
          "execution_count": 71
        }
      ]
    },
    {
      "cell_type": "markdown",
      "source": [
        "Посчитаем средневзвешенную ошибку по типам трафика:"
      ],
      "metadata": {
        "id": "vm2-HDUh0SUZ"
      }
    },
    {
      "cell_type": "code",
      "source": [
        "predict_columns = ['predict_catboost', 'predict_ridge']\n",
        "df_day_traf_errors = get_errors(df_test, predict_columns=predict_columns, weighted=['idTrafficType'])"
      ],
      "metadata": {
        "id": "9ntGImNv0TFH"
      },
      "execution_count": 72,
      "outputs": []
    },
    {
      "cell_type": "markdown",
      "source": [
        "Отрисуем ошибку:"
      ],
      "metadata": {
        "id": "bOgXmSZq0ZGP"
      }
    },
    {
      "cell_type": "code",
      "source": [
        "layout = go.Layout()\n",
        "fig = go.Figure()\n",
        "\n",
        "# две кривые\n",
        "for col in predict_columns:\n",
        "    name = col.split('_')[1] + '_error_weighted'\n",
        "    fig.add_trace(go.Scatter(x=df_day_traf_errors.dtInstall, \n",
        "                             y=df_day_traf_errors[col + '_error_weighted'], name=name))\n",
        "\n",
        "# свойства графика\n",
        "fig.update_layout(\n",
        "    title_text=\"Day-app-traff errors catboost and ridge.\",\n",
        "    title_font_size=20,\n",
        "    yaxis_title='Error',\n",
        "    xaxis_title='date'\n",
        ")"
      ],
      "metadata": {
        "colab": {
          "base_uri": "https://localhost:8080/",
          "height": 542
        },
        "id": "djL01kZs0WYa",
        "outputId": "97b53d09-e211-4690-b47b-2c7059c5e743"
      },
      "execution_count": 73,
      "outputs": [
        {
          "output_type": "display_data",
          "data": {
            "text/html": [
              "<html>\n",
              "<head><meta charset=\"utf-8\" /></head>\n",
              "<body>\n",
              "    <div>            <script src=\"https://cdnjs.cloudflare.com/ajax/libs/mathjax/2.7.5/MathJax.js?config=TeX-AMS-MML_SVG\"></script><script type=\"text/javascript\">if (window.MathJax) {MathJax.Hub.Config({SVG: {font: \"STIX-Web\"}});}</script>                <script type=\"text/javascript\">window.PlotlyConfig = {MathJaxConfig: 'local'};</script>\n",
              "        <script src=\"https://cdn.plot.ly/plotly-2.8.3.min.js\"></script>                <div id=\"8c4bab89-badf-424a-a5ef-a9f22aeb7044\" class=\"plotly-graph-div\" style=\"height:525px; width:100%;\"></div>            <script type=\"text/javascript\">                                    window.PLOTLYENV=window.PLOTLYENV || {};                                    if (document.getElementById(\"8c4bab89-badf-424a-a5ef-a9f22aeb7044\")) {                    Plotly.newPlot(                        \"8c4bab89-badf-424a-a5ef-a9f22aeb7044\",                        [{\"name\":\"catboost_error_weighted\",\"x\":[\"2021-09-21\",\"2021-09-22\",\"2021-09-23\",\"2021-09-24\",\"2021-09-25\",\"2021-09-26\",\"2021-09-27\",\"2021-09-28\",\"2021-09-29\",\"2021-09-30\",\"2021-10-01\",\"2021-10-02\",\"2021-10-03\",\"2021-10-04\",\"2021-10-05\",\"2021-10-06\",\"2021-10-07\",\"2021-10-08\",\"2021-10-09\",\"2021-10-10\",\"2021-10-11\",\"2021-10-12\",\"2021-10-13\",\"2021-10-14\",\"2021-10-15\",\"2021-10-16\",\"2021-10-17\",\"2021-10-18\",\"2021-10-19\",\"2021-10-20\",\"2021-10-21\"],\"y\":[0.252070366943817,0.6780396622131619,0.16721291731788834,0.1393089932731311,0.3095894185726095,0.6663686304717996,0.14134436974014183,0.2801651699556304,0.22556354904703982,0.18873893443177783,0.1001142432142782,0.16909848550918996,0.10625193478485181,0.1234069710084747,0.1837466268695717,0.4195713058277294,0.1821305233520412,0.7296161373366473,0.5095665099610314,0.35405762819826525,0.2392629041988831,0.24068698813043127,0.3582655949261002,0.6163911137753326,0.45115498767168927,1.2114741504920234,0.5733166599770689,0.31586608599221583,0.16885735946738606,0.4103443245277302,0.14324353999291015],\"type\":\"scatter\"},{\"name\":\"ridge_error_weighted\",\"x\":[\"2021-09-21\",\"2021-09-22\",\"2021-09-23\",\"2021-09-24\",\"2021-09-25\",\"2021-09-26\",\"2021-09-27\",\"2021-09-28\",\"2021-09-29\",\"2021-09-30\",\"2021-10-01\",\"2021-10-02\",\"2021-10-03\",\"2021-10-04\",\"2021-10-05\",\"2021-10-06\",\"2021-10-07\",\"2021-10-08\",\"2021-10-09\",\"2021-10-10\",\"2021-10-11\",\"2021-10-12\",\"2021-10-13\",\"2021-10-14\",\"2021-10-15\",\"2021-10-16\",\"2021-10-17\",\"2021-10-18\",\"2021-10-19\",\"2021-10-20\",\"2021-10-21\"],\"y\":[0.6492263721343778,0.37925701088323904,0.574645466265578,0.5441394538603014,0.6714087694247518,0.46863018220991787,0.6537477114328354,0.6800822249270481,0.6689320376848438,0.578957667471137,0.6153876426828162,0.6167155114772964,0.6252810812437657,0.6065911618068774,0.6421249112586904,0.4033895947962966,0.7419249788215955,0.9081797329305389,0.5437380105765699,0.7528918129659069,0.3117702365377261,0.33571260579754153,0.2159794281209383,0.22797486273960973,0.19033858426083874,0.21825121805603687,0.360566659577292,0.24781789503717133,0.40220630701303894,0.39426044390959525,0.4697652532084363],\"type\":\"scatter\"}],                        {\"template\":{\"data\":{\"bar\":[{\"error_x\":{\"color\":\"#2a3f5f\"},\"error_y\":{\"color\":\"#2a3f5f\"},\"marker\":{\"line\":{\"color\":\"#E5ECF6\",\"width\":0.5},\"pattern\":{\"fillmode\":\"overlay\",\"size\":10,\"solidity\":0.2}},\"type\":\"bar\"}],\"barpolar\":[{\"marker\":{\"line\":{\"color\":\"#E5ECF6\",\"width\":0.5},\"pattern\":{\"fillmode\":\"overlay\",\"size\":10,\"solidity\":0.2}},\"type\":\"barpolar\"}],\"carpet\":[{\"aaxis\":{\"endlinecolor\":\"#2a3f5f\",\"gridcolor\":\"white\",\"linecolor\":\"white\",\"minorgridcolor\":\"white\",\"startlinecolor\":\"#2a3f5f\"},\"baxis\":{\"endlinecolor\":\"#2a3f5f\",\"gridcolor\":\"white\",\"linecolor\":\"white\",\"minorgridcolor\":\"white\",\"startlinecolor\":\"#2a3f5f\"},\"type\":\"carpet\"}],\"choropleth\":[{\"colorbar\":{\"outlinewidth\":0,\"ticks\":\"\"},\"type\":\"choropleth\"}],\"contour\":[{\"colorbar\":{\"outlinewidth\":0,\"ticks\":\"\"},\"colorscale\":[[0.0,\"#0d0887\"],[0.1111111111111111,\"#46039f\"],[0.2222222222222222,\"#7201a8\"],[0.3333333333333333,\"#9c179e\"],[0.4444444444444444,\"#bd3786\"],[0.5555555555555556,\"#d8576b\"],[0.6666666666666666,\"#ed7953\"],[0.7777777777777778,\"#fb9f3a\"],[0.8888888888888888,\"#fdca26\"],[1.0,\"#f0f921\"]],\"type\":\"contour\"}],\"contourcarpet\":[{\"colorbar\":{\"outlinewidth\":0,\"ticks\":\"\"},\"type\":\"contourcarpet\"}],\"heatmap\":[{\"colorbar\":{\"outlinewidth\":0,\"ticks\":\"\"},\"colorscale\":[[0.0,\"#0d0887\"],[0.1111111111111111,\"#46039f\"],[0.2222222222222222,\"#7201a8\"],[0.3333333333333333,\"#9c179e\"],[0.4444444444444444,\"#bd3786\"],[0.5555555555555556,\"#d8576b\"],[0.6666666666666666,\"#ed7953\"],[0.7777777777777778,\"#fb9f3a\"],[0.8888888888888888,\"#fdca26\"],[1.0,\"#f0f921\"]],\"type\":\"heatmap\"}],\"heatmapgl\":[{\"colorbar\":{\"outlinewidth\":0,\"ticks\":\"\"},\"colorscale\":[[0.0,\"#0d0887\"],[0.1111111111111111,\"#46039f\"],[0.2222222222222222,\"#7201a8\"],[0.3333333333333333,\"#9c179e\"],[0.4444444444444444,\"#bd3786\"],[0.5555555555555556,\"#d8576b\"],[0.6666666666666666,\"#ed7953\"],[0.7777777777777778,\"#fb9f3a\"],[0.8888888888888888,\"#fdca26\"],[1.0,\"#f0f921\"]],\"type\":\"heatmapgl\"}],\"histogram\":[{\"marker\":{\"pattern\":{\"fillmode\":\"overlay\",\"size\":10,\"solidity\":0.2}},\"type\":\"histogram\"}],\"histogram2d\":[{\"colorbar\":{\"outlinewidth\":0,\"ticks\":\"\"},\"colorscale\":[[0.0,\"#0d0887\"],[0.1111111111111111,\"#46039f\"],[0.2222222222222222,\"#7201a8\"],[0.3333333333333333,\"#9c179e\"],[0.4444444444444444,\"#bd3786\"],[0.5555555555555556,\"#d8576b\"],[0.6666666666666666,\"#ed7953\"],[0.7777777777777778,\"#fb9f3a\"],[0.8888888888888888,\"#fdca26\"],[1.0,\"#f0f921\"]],\"type\":\"histogram2d\"}],\"histogram2dcontour\":[{\"colorbar\":{\"outlinewidth\":0,\"ticks\":\"\"},\"colorscale\":[[0.0,\"#0d0887\"],[0.1111111111111111,\"#46039f\"],[0.2222222222222222,\"#7201a8\"],[0.3333333333333333,\"#9c179e\"],[0.4444444444444444,\"#bd3786\"],[0.5555555555555556,\"#d8576b\"],[0.6666666666666666,\"#ed7953\"],[0.7777777777777778,\"#fb9f3a\"],[0.8888888888888888,\"#fdca26\"],[1.0,\"#f0f921\"]],\"type\":\"histogram2dcontour\"}],\"mesh3d\":[{\"colorbar\":{\"outlinewidth\":0,\"ticks\":\"\"},\"type\":\"mesh3d\"}],\"parcoords\":[{\"line\":{\"colorbar\":{\"outlinewidth\":0,\"ticks\":\"\"}},\"type\":\"parcoords\"}],\"pie\":[{\"automargin\":true,\"type\":\"pie\"}],\"scatter\":[{\"marker\":{\"colorbar\":{\"outlinewidth\":0,\"ticks\":\"\"}},\"type\":\"scatter\"}],\"scatter3d\":[{\"line\":{\"colorbar\":{\"outlinewidth\":0,\"ticks\":\"\"}},\"marker\":{\"colorbar\":{\"outlinewidth\":0,\"ticks\":\"\"}},\"type\":\"scatter3d\"}],\"scattercarpet\":[{\"marker\":{\"colorbar\":{\"outlinewidth\":0,\"ticks\":\"\"}},\"type\":\"scattercarpet\"}],\"scattergeo\":[{\"marker\":{\"colorbar\":{\"outlinewidth\":0,\"ticks\":\"\"}},\"type\":\"scattergeo\"}],\"scattergl\":[{\"marker\":{\"colorbar\":{\"outlinewidth\":0,\"ticks\":\"\"}},\"type\":\"scattergl\"}],\"scattermapbox\":[{\"marker\":{\"colorbar\":{\"outlinewidth\":0,\"ticks\":\"\"}},\"type\":\"scattermapbox\"}],\"scatterpolar\":[{\"marker\":{\"colorbar\":{\"outlinewidth\":0,\"ticks\":\"\"}},\"type\":\"scatterpolar\"}],\"scatterpolargl\":[{\"marker\":{\"colorbar\":{\"outlinewidth\":0,\"ticks\":\"\"}},\"type\":\"scatterpolargl\"}],\"scatterternary\":[{\"marker\":{\"colorbar\":{\"outlinewidth\":0,\"ticks\":\"\"}},\"type\":\"scatterternary\"}],\"surface\":[{\"colorbar\":{\"outlinewidth\":0,\"ticks\":\"\"},\"colorscale\":[[0.0,\"#0d0887\"],[0.1111111111111111,\"#46039f\"],[0.2222222222222222,\"#7201a8\"],[0.3333333333333333,\"#9c179e\"],[0.4444444444444444,\"#bd3786\"],[0.5555555555555556,\"#d8576b\"],[0.6666666666666666,\"#ed7953\"],[0.7777777777777778,\"#fb9f3a\"],[0.8888888888888888,\"#fdca26\"],[1.0,\"#f0f921\"]],\"type\":\"surface\"}],\"table\":[{\"cells\":{\"fill\":{\"color\":\"#EBF0F8\"},\"line\":{\"color\":\"white\"}},\"header\":{\"fill\":{\"color\":\"#C8D4E3\"},\"line\":{\"color\":\"white\"}},\"type\":\"table\"}]},\"layout\":{\"annotationdefaults\":{\"arrowcolor\":\"#2a3f5f\",\"arrowhead\":0,\"arrowwidth\":1},\"autotypenumbers\":\"strict\",\"coloraxis\":{\"colorbar\":{\"outlinewidth\":0,\"ticks\":\"\"}},\"colorscale\":{\"diverging\":[[0,\"#8e0152\"],[0.1,\"#c51b7d\"],[0.2,\"#de77ae\"],[0.3,\"#f1b6da\"],[0.4,\"#fde0ef\"],[0.5,\"#f7f7f7\"],[0.6,\"#e6f5d0\"],[0.7,\"#b8e186\"],[0.8,\"#7fbc41\"],[0.9,\"#4d9221\"],[1,\"#276419\"]],\"sequential\":[[0.0,\"#0d0887\"],[0.1111111111111111,\"#46039f\"],[0.2222222222222222,\"#7201a8\"],[0.3333333333333333,\"#9c179e\"],[0.4444444444444444,\"#bd3786\"],[0.5555555555555556,\"#d8576b\"],[0.6666666666666666,\"#ed7953\"],[0.7777777777777778,\"#fb9f3a\"],[0.8888888888888888,\"#fdca26\"],[1.0,\"#f0f921\"]],\"sequentialminus\":[[0.0,\"#0d0887\"],[0.1111111111111111,\"#46039f\"],[0.2222222222222222,\"#7201a8\"],[0.3333333333333333,\"#9c179e\"],[0.4444444444444444,\"#bd3786\"],[0.5555555555555556,\"#d8576b\"],[0.6666666666666666,\"#ed7953\"],[0.7777777777777778,\"#fb9f3a\"],[0.8888888888888888,\"#fdca26\"],[1.0,\"#f0f921\"]]},\"colorway\":[\"#636efa\",\"#EF553B\",\"#00cc96\",\"#ab63fa\",\"#FFA15A\",\"#19d3f3\",\"#FF6692\",\"#B6E880\",\"#FF97FF\",\"#FECB52\"],\"font\":{\"color\":\"#2a3f5f\"},\"geo\":{\"bgcolor\":\"white\",\"lakecolor\":\"white\",\"landcolor\":\"#E5ECF6\",\"showlakes\":true,\"showland\":true,\"subunitcolor\":\"white\"},\"hoverlabel\":{\"align\":\"left\"},\"hovermode\":\"closest\",\"mapbox\":{\"style\":\"light\"},\"paper_bgcolor\":\"white\",\"plot_bgcolor\":\"#E5ECF6\",\"polar\":{\"angularaxis\":{\"gridcolor\":\"white\",\"linecolor\":\"white\",\"ticks\":\"\"},\"bgcolor\":\"#E5ECF6\",\"radialaxis\":{\"gridcolor\":\"white\",\"linecolor\":\"white\",\"ticks\":\"\"}},\"scene\":{\"xaxis\":{\"backgroundcolor\":\"#E5ECF6\",\"gridcolor\":\"white\",\"gridwidth\":2,\"linecolor\":\"white\",\"showbackground\":true,\"ticks\":\"\",\"zerolinecolor\":\"white\"},\"yaxis\":{\"backgroundcolor\":\"#E5ECF6\",\"gridcolor\":\"white\",\"gridwidth\":2,\"linecolor\":\"white\",\"showbackground\":true,\"ticks\":\"\",\"zerolinecolor\":\"white\"},\"zaxis\":{\"backgroundcolor\":\"#E5ECF6\",\"gridcolor\":\"white\",\"gridwidth\":2,\"linecolor\":\"white\",\"showbackground\":true,\"ticks\":\"\",\"zerolinecolor\":\"white\"}},\"shapedefaults\":{\"line\":{\"color\":\"#2a3f5f\"}},\"ternary\":{\"aaxis\":{\"gridcolor\":\"white\",\"linecolor\":\"white\",\"ticks\":\"\"},\"baxis\":{\"gridcolor\":\"white\",\"linecolor\":\"white\",\"ticks\":\"\"},\"bgcolor\":\"#E5ECF6\",\"caxis\":{\"gridcolor\":\"white\",\"linecolor\":\"white\",\"ticks\":\"\"}},\"title\":{\"x\":0.05},\"xaxis\":{\"automargin\":true,\"gridcolor\":\"white\",\"linecolor\":\"white\",\"ticks\":\"\",\"title\":{\"standoff\":15},\"zerolinecolor\":\"white\",\"zerolinewidth\":2},\"yaxis\":{\"automargin\":true,\"gridcolor\":\"white\",\"linecolor\":\"white\",\"ticks\":\"\",\"title\":{\"standoff\":15},\"zerolinecolor\":\"white\",\"zerolinewidth\":2}}},\"title\":{\"font\":{\"size\":20},\"text\":\"Day-app-traff errors catboost and ridge.\"},\"yaxis\":{\"title\":{\"text\":\"Error\"}},\"xaxis\":{\"title\":{\"text\":\"date\"}}},                        {\"responsive\": true}                    ).then(function(){\n",
              "                            \n",
              "var gd = document.getElementById('8c4bab89-badf-424a-a5ef-a9f22aeb7044');\n",
              "var x = new MutationObserver(function (mutations, observer) {{\n",
              "        var display = window.getComputedStyle(gd).display;\n",
              "        if (!display || display === 'none') {{\n",
              "            console.log([gd, 'removed!']);\n",
              "            Plotly.purge(gd);\n",
              "            observer.disconnect();\n",
              "        }}\n",
              "}});\n",
              "\n",
              "// Listen for the removal of the full notebook cells\n",
              "var notebookContainer = gd.closest('#notebook-container');\n",
              "if (notebookContainer) {{\n",
              "    x.observe(notebookContainer, {childList: true});\n",
              "}}\n",
              "\n",
              "// Listen for the clearing of the current output cell\n",
              "var outputEl = gd.closest('.output');\n",
              "if (outputEl) {{\n",
              "    x.observe(outputEl, {childList: true});\n",
              "}}\n",
              "\n",
              "                        })                };                            </script>        </div>\n",
              "</body>\n",
              "</html>"
            ]
          },
          "metadata": {}
        }
      ]
    },
    {
      "cell_type": "code",
      "source": [
        "df_day_traf_errors.mean()"
      ],
      "metadata": {
        "colab": {
          "base_uri": "https://localhost:8080/"
        },
        "id": "oswjC2AM0Zn4",
        "outputId": "4ba26442-1deb-4151-9fcb-6a07a78d6fa0"
      },
      "execution_count": 74,
      "outputs": [
        {
          "output_type": "execute_result",
          "data": {
            "text/plain": [
              "predict_catboost_error_weighted    0.343704\n",
              "predict_ridge_error_weighted       0.506448\n",
              "dtype: float64"
            ]
          },
          "metadata": {},
          "execution_count": 74
        }
      ]
    },
    {
      "cell_type": "markdown",
      "source": [
        "Модели бустинга и линейные модели хороши тогда, когда есть достаточное количество наблюдаемых данных - в нашем случае это достаточное количество платящих пользователей за большой период времени."
      ],
      "metadata": {
        "id": "LMQVoHtL0oqk"
      }
    }
  ]
}