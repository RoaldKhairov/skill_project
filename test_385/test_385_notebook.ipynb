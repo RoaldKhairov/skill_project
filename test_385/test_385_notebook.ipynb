{
 "cells": [
  {
   "cell_type": "code",
   "execution_count": 3,
   "metadata": {},
   "outputs": [
    {
     "name": "stderr",
     "output_type": "stream",
     "text": [
      "C:\\Users\\Selecty\\AppData\\Local\\Temp\\ipykernel_17880\\4080736814.py:1: DeprecationWarning: \n",
      "Pyarrow will become a required dependency of pandas in the next major release of pandas (pandas 3.0),\n",
      "(to allow more performant data types, such as the Arrow string type, and better interoperability with other libraries)\n",
      "but was not found to be installed on your system.\n",
      "If this would cause problems for you,\n",
      "please provide us feedback at https://github.com/pandas-dev/pandas/issues/54466\n",
      "        \n",
      "  import pandas as pd\n"
     ]
    }
   ],
   "source": [
    "import pandas as pd"
   ]
  },
  {
   "cell_type": "markdown",
   "metadata": {},
   "source": [
    "#### **Задание 1.**\n",
    "Рассчитайте прирост средней коверсии на 1 магазин в Санкт-Петербурге из входящих в покупатели. Данные находятся в файле \"task_1\"\n",
    "В анализе прироста средней конверсии Периода 2 к Периоду 1 должны участвовать только сопоставимые магазины (LFL) - работавшие в обоих периодах."
   ]
  },
  {
   "cell_type": "code",
   "execution_count": 30,
   "metadata": {},
   "outputs": [],
   "source": [
    "task_1_dataset = pd.read_csv('task_1.csv', sep = ';')"
   ]
  },
  {
   "cell_type": "code",
   "execution_count": 31,
   "metadata": {},
   "outputs": [],
   "source": [
    "# Выделим два периода\n",
    "period_1 = task_1_dataset[task_1_dataset['Период']==1]\n",
    "period_2 = task_1_dataset[task_1_dataset['Период']==2]\n",
    "\n",
    "# объеденим два периода в общий датасет\n",
    "conv_dataset = period_1.merge(period_2, on=['Код магазина'], how='inner') \n",
    "# Отфильтруем странные значения, где 0 входящих\n",
    "conv_dataset = conv_dataset[(conv_dataset['Входящие, чел_x'] != 0) & (conv_dataset['Входящие, чел_y'] != 0)]\n"
   ]
  },
  {
   "cell_type": "code",
   "execution_count": 41,
   "metadata": {},
   "outputs": [],
   "source": [
    "# Посчитаем прирост конверсий\n",
    "conv_dataset['conv_1'] = conv_dataset['Покупатели, чел._x'] / conv_dataset['Входящие, чел_x']\n",
    "conv_dataset['conv_2'] = conv_dataset['Покупатели, чел._y'] / conv_dataset['Входящие, чел_y']\n",
    "conv_dataset['conv_diff'] = (conv_dataset['conv_2'] - conv_dataset['conv_1'])"
   ]
  },
  {
   "cell_type": "markdown",
   "metadata": {},
   "source": [
    "**Готово**"
   ]
  },
  {
   "cell_type": "markdown",
   "metadata": {},
   "source": [
    "#### **Задание 2.**\n",
    " \t\n",
    "Рассчитайте наценку на ювелирные изделия по данным в файле \"task_2\". Соблюсти следующие условия:\n",
    "1. Период анализа - с 1.04.23 по 10.04.23\n",
    "2. В анализе должны участвовать только продажи изделий с общей суммой и себестоимостью больше 0 рублей\n",
    "3. В ответе необходимо получить два значения наценки - среднюю наценку на ювелирные изделия из золота и среднюю наценку на ювелирные изделия из серебра. Сгруппировать изделия по металлу нужно на основе поля \"Товарная группа\". Товарная группа изделий из серебра начинается на \"СИ\", все остальные изделия - это золото."
   ]
  },
  {
   "cell_type": "code",
   "execution_count": 107,
   "metadata": {},
   "outputs": [],
   "source": [
    "task_2_dataset = pd.read_csv('task_2.csv', sep = ';')"
   ]
  },
  {
   "cell_type": "code",
   "execution_count": 108,
   "metadata": {},
   "outputs": [],
   "source": [
    "# Подправим период анализа\n",
    "task_2_dataset['ДатаПродажи'] = pd.to_datetime(task_2_dataset['ДатаПродажи'], format='%d.%m.%Y %H:%M')\n",
    "\n",
    "# Задаем даты начала и конца интервала\n",
    "start_date = pd.to_datetime('2023-04-01')\n",
    "end_date = pd.to_datetime('2023-04-16')\n",
    "task_2_dataset = task_2_dataset[(task_2_dataset['ДатаПродажи'] >= start_date) & (task_2_dataset['ДатаПродажи'] <= end_date)]\n",
    "\n",
    "#Отфильтруем продажи изделий с общей суммой и себестоимостью больше 0 рублей\n",
    "task_2_dataset = task_2_dataset[(task_2_dataset['ОбщаяСумма'] > 0) & (task_2_dataset['Себестоимость'] > 0)]\n",
    "\n",
    "#Расчитаем наценку\n",
    "task_2_dataset['markup'] = task_2_dataset['ОбщаяСумма'] - task_2_dataset['Себестоимость']"
   ]
  },
  {
   "cell_type": "code",
   "execution_count": 109,
   "metadata": {},
   "outputs": [],
   "source": [
    "# Функция для определения категории изделия - золото и серебро\n",
    "def categorize_product(group):\n",
    "    if group.startswith('СИ'):\n",
    "        return 'серебро'\n",
    "    else:\n",
    "        return 'золото'\n",
    "\n",
    "task_2_dataset['Категория'] = task_2_dataset['ТоварнаяГруппа'].apply(categorize_product)"
   ]
  },
  {
   "cell_type": "code",
   "execution_count": 110,
   "metadata": {},
   "outputs": [
    {
     "name": "stdout",
     "output_type": "stream",
     "text": [
      "Категория\n",
      "золото     9066.940511\n",
      "серебро    1330.022642\n",
      "Name: markup, dtype: float64\n"
     ]
    }
   ],
   "source": [
    "#Подсчитаем среднюю по группам\n",
    "grouped_mean = task_2_dataset.groupby('Категория')['markup'].mean()\n",
    "print(grouped_mean)"
   ]
  }
 ],
 "metadata": {
  "kernelspec": {
   "display_name": "Python 3",
   "language": "python",
   "name": "python3"
  },
  "language_info": {
   "codemirror_mode": {
    "name": "ipython",
    "version": 3
   },
   "file_extension": ".py",
   "mimetype": "text/x-python",
   "name": "python",
   "nbconvert_exporter": "python",
   "pygments_lexer": "ipython3",
   "version": "3.11.1"
  }
 },
 "nbformat": 4,
 "nbformat_minor": 2
}
